{
 "cells": [
  {
   "cell_type": "code",
   "execution_count": 1,
   "metadata": {},
   "outputs": [
    {
     "name": "stdout",
     "output_type": "stream",
     "text": [
      "Hello world, I am oxxo!!\n",
      "Hello world, I am xoox!!\n",
      "there are 2 dollars\n",
      "there are 2.000000 dollars\n"
     ]
    }
   ],
   "source": [
    "a = 'Hello world, I am %s!!'\n",
    "b = 'there are %d dollars'\n",
    "c = 'there are %f dollars'\n",
    "print(a % 'oxxo')  # Hello world, I am oxxo!!\n",
    "print(a % 'xoox')  # Hello world, I am xoox!!\n",
    "print(b % 2.5)     # there are 2 dollars ( 小數點被無條件捨去 )\n",
    "print(c % 2)       # there are 2.000000 dollars ( 整數轉換成浮點數 )"
   ]
  },
  {
   "cell_type": "code",
   "execution_count": 2,
   "metadata": {},
   "outputs": [
    {
     "name": "stdout",
     "output_type": "stream",
     "text": [
      "hello world\n",
      "       hello world\n",
      "       hello world\n",
      "hello        world\n",
      "hel world\n",
      "         hel world\n",
      "123.457 world\n"
     ]
    }
   ],
   "source": [
    "print('%s world' % 'hello')      # hello world\n",
    "print('%12s world' % 'hello')    #        hello world\n",
    "print('%+12s world' % 'hello')   #        hello world\n",
    "print('%-12s world' % 'hello')   # hello        world\n",
    "print('%.3s world' % 'hello')    # hel world\n",
    "print('%12.3s world' % 'hello')  #          hel world\n",
    "\n",
    "print('%.3f world' % 123.456789) # 123.457 world"
   ]
  },
  {
   "cell_type": "code",
   "execution_count": 3,
   "metadata": {},
   "outputs": [
    {
     "name": "stdout",
     "output_type": "stream",
     "text": [
      "hello world, ther are 2.500000 dollars!\n"
     ]
    }
   ],
   "source": [
    "a = '%s world, ther are %f dollars!'\n",
    "b = a % ('hello', 2.5)\n",
    "print(b)   # hello world, ther are 2.500000 dollars!"
   ]
  },
  {
   "cell_type": "code",
   "execution_count": 4,
   "metadata": {},
   "outputs": [
    {
     "name": "stdout",
     "output_type": "stream",
     "text": [
      "hello world, I am oxxo\n"
     ]
    }
   ],
   "source": [
    "a = 'hello {}, I am {}'\n",
    "b = a.format('world', 'oxxo')\n",
    "print(b)   # hello world, I am oxxo"
   ]
  },
  {
   "cell_type": "code",
   "execution_count": 5,
   "metadata": {},
   "outputs": [
    {
     "name": "stdout",
     "output_type": "stream",
     "text": [
      "你好 同學,我是PeiYu\n"
     ]
    }
   ],
   "source": [
    "c=\"你好 {},我是{}\"\n",
    "d=c.format(\"同學\",\"PeiYu\")\n",
    "print(d)"
   ]
  },
  {
   "cell_type": "code",
   "execution_count": 7,
   "metadata": {},
   "outputs": [
    {
     "name": "stdout",
     "output_type": "stream",
     "text": [
      "hello oxxo,I amworld,12345\n"
     ]
    }
   ],
   "source": [
    "a=\"hello {1},I am{0},{2}\"\n",
    "b=a.format(\"world\",\"oxxo\",\"12345\")\n",
    "print(b)"
   ]
  },
  {
   "cell_type": "code",
   "execution_count": 8,
   "metadata": {},
   "outputs": [
    {
     "name": "stdout",
     "output_type": "stream",
     "text": [
      "hello world, I am oxxo\n",
      "hello world     , I am oxxo      \n",
      "hello      world, I am       oxxo\n",
      "hello --world---, I am +++oxxo+++\n",
      "hello ---wor----, I am ---oxxo---\n",
      "hello ---wor----, I am  123.457  \n"
     ]
    }
   ],
   "source": [
    "a = 'hello {}, I am {}'.format('world','oxxo')\n",
    "b = 'hello {:10s}, I am {:10s}'.format('world','oxxo')\n",
    "c = 'hello {:>10s}, I am {:>10s}'.format('world','oxxo')\n",
    "d = 'hello {:-^10s}, I am {:+^10s}'.format('world','oxxo')\n",
    "e = 'hello {:-^10.3s}, I am {:-^10s}'.format('world','oxxo')\n",
    "f = 'hello {:-^10.3s}, I am {:^10.3f}'.format('world',123.456789)\n",
    "print(a)  # hello world, I am oxxo\n",
    "print(b)  # hello world     , I am oxxo\n",
    "print(c)  # hello      world, I am       oxxo\n",
    "print(d)  # hello --world---, I am +++oxxo+++\n",
    "print(e)  # hello ---wor----, I am ---oxxo---\n",
    "print(f)  # hello ---wor----, I am  123.457"
   ]
  },
  {
   "cell_type": "code",
   "execution_count": 23,
   "metadata": {},
   "outputs": [
    {
     "name": "stdout",
     "output_type": "stream",
     "text": [
      "hello +++world--- , I and +++ ooxx---\n"
     ]
    }
   ],
   "source": [
    "e = \"{} +++world--- , I and +++ {}---\".format(\"hello\",\"ooxx\")\n",
    "print(e)"
   ]
  },
  {
   "cell_type": "code",
   "execution_count": 24,
   "metadata": {},
   "outputs": [
    {
     "name": "stdout",
     "output_type": "stream",
     "text": [
      "hello +++world---, I and +++oxxo---\n"
     ]
    }
   ],
   "source": [
    "h=\"oxxo\"\n",
    "i=f\"hello +++world---, I and +++{h}---\"\n",
    "print(i)"
   ]
  },
  {
   "cell_type": "code",
   "execution_count": 25,
   "metadata": {},
   "outputs": [
    {
     "name": "stdout",
     "output_type": "stream",
     "text": [
      "hello world     , I am       oxxo\n",
      "hello world-----, I am +++oxxo+++\n",
      "hello wor-------, I am ++++ox++++\n",
      "hello WORLD, I am Oxxo\n"
     ]
    }
   ],
   "source": [
    "a = 'world'\n",
    "b = 'oxxo'\n",
    "c = f'hello {a:<10s}, I am {b:>10s}'\n",
    "d = f'hello {a:-<10s}, I am {b:+^10s}'\n",
    "e = f'hello {a:-<10.3s}, I am {b:+^10.2s}'\n",
    "f = f'hello {a.upper()}, I am {b.title()}'\n",
    "print(c)   # hello world     , I am       oxxo\n",
    "print(d)   # hello world-----, I am +++oxxo+++\n",
    "print(e)   # hello wor-------, I am ++++ox++++\n",
    "print(f)   # hello WORLD, I am Oxxo"
   ]
  },
  {
   "cell_type": "code",
   "execution_count": 26,
   "metadata": {},
   "outputs": [
    {
     "name": "stdout",
     "output_type": "stream",
     "text": [
      "001 , 002 , 003 , 004 , 005 , 006 , 007 , 008 , 009 , 010 , 011 , 012 , 013 , 014 , 015 , 016 , 017 , 018 , 019 , 020 , 021 , 022 , 023 , 024 , 025 , 026 , 027 , 028 , 029 , 030 , 031 , 032 , 033 , 034 , 035 , 036 , 037 , 038 , 039 , 040 , 041 , 042 , 043 , 044 , 045 , 046 , 047 , 048 , 049 , 050 , 051 , 052 , 053 , 054 , 055 , 056 , 057 , 058 , 059 , 060 , 061 , 062 , 063 , 064 , 065 , 066 , 067 , 068 , 069 , 070 , 071 , 072 , 073 , 074 , 075 , 076 , 077 , 078 , 079 , 080 , 081 , 082 , 083 , 084 , 085 , 086 , 087 , 088 , 089 , 090 , 091 , 092 , 093 , 094 , 095 , 096 , 097 , 098 , 099 , 100 , "
     ]
    },
    {
     "data": {
      "text/plain": [
       "'\\n001 , 002 , 003 , 004 , 005 , 006 , 007 , 008 , 009 , 010 ,\\n011 , 012 , 013 , 014 , 015 , 016 , 017 , 018 , 019 , 020 ,\\n021 , 022 , 023 , 024 , 025 , 026 , 027 , 028 , 029 , 030 ,\\n031 , 032 , 033 , 034 , 035 , 036 , 037 , 038 , 039 , 040 ,\\n041 , 042 , 043 , 044 , 045 , 046 , 047 , 048 , 049 , 050 ,\\n051 , 052 , 053 , 054 , 055 , 056 , 057 , 058 , 059 , 060 ,\\n061 , 062 , 063 , 064 , 065 , 066 , 067 , 068 , 069 , 070 ,\\n071 , 072 , 073 , 074 , 075 , 076 , 077 , 078 , 079 , 080 ,\\n081 , 082 , 083 , 084 , 085 , 086 , 087 , 088 , 089 , 090 ,\\n091 , 092 , 093 , 094 , 095 , 096 , 097 , 098 , 099 , 100 ,\\n'"
      ]
     },
     "execution_count": 26,
     "metadata": {},
     "output_type": "execute_result"
    }
   ],
   "source": [
    "for i in range(1,101):\n",
    "  print(f'{i:03d}',end=' , ')\n",
    "\n",
    "'''\n",
    "001 , 002 , 003 , 004 , 005 , 006 , 007 , 008 , 009 , 010 ,\n",
    "011 , 012 , 013 , 014 , 015 , 016 , 017 , 018 , 019 , 020 ,\n",
    "021 , 022 , 023 , 024 , 025 , 026 , 027 , 028 , 029 , 030 ,\n",
    "031 , 032 , 033 , 034 , 035 , 036 , 037 , 038 , 039 , 040 ,\n",
    "041 , 042 , 043 , 044 , 045 , 046 , 047 , 048 , 049 , 050 ,\n",
    "051 , 052 , 053 , 054 , 055 , 056 , 057 , 058 , 059 , 060 ,\n",
    "061 , 062 , 063 , 064 , 065 , 066 , 067 , 068 , 069 , 070 ,\n",
    "071 , 072 , 073 , 074 , 075 , 076 , 077 , 078 , 079 , 080 ,\n",
    "081 , 082 , 083 , 084 , 085 , 086 , 087 , 088 , 089 , 090 ,\n",
    "091 , 092 , 093 , 094 , 095 , 096 , 097 , 098 , 099 , 100 ,\n",
    "'''"
   ]
  },
  {
   "cell_type": "code",
   "execution_count": 29,
   "metadata": {},
   "outputs": [
    {
     "name": "stdout",
     "output_type": "stream",
     "text": [
      "001,002,003,004,005,006,007,008,009,010,\n",
      "011,012,013,014,015,016,017,018,019,020,\n",
      "021,022,023,024,025,026,027,028,029,030,\n",
      "031,032,033,034,035,036,037,038,039,040,\n",
      "041,042,043,044,045,046,047,048,049,050,\n",
      "051,052,053,054,055,056,057,058,059,060,\n",
      "061,062,063,064,065,066,067,068,069,070,\n",
      "071,072,073,074,075,076,077,078,079,080,\n",
      "081,082,083,084,085,086,087,088,089,090,\n",
      "091,092,093,094,095,096,097,098,099,100,\n"
     ]
    }
   ],
   "source": [
    "c =0\n",
    "for i in range(1,101):\n",
    "    print(f'{i:03d}',end=',')\n",
    "    c+=1\n",
    "    if c%10==0:\n",
    "        print()\n"
   ]
  },
  {
   "cell_type": "code",
   "execution_count": 30,
   "metadata": {},
   "outputs": [
    {
     "name": "stdout",
     "output_type": "stream",
     "text": [
      "格式化後的數字是：123.46\n"
     ]
    }
   ],
   "source": [
    "input_number = float(input(\"請輸入一個浮點數：\"))\n",
    "formatted_number = f\"{input_number:.2f}\"\n",
    "print(f\"格式化後的數字是：{formatted_number}\")"
   ]
  },
  {
   "cell_type": "code",
   "execution_count": 32,
   "metadata": {},
   "outputs": [
    {
     "name": "stdout",
     "output_type": "stream",
     "text": [
      "拼接後的字串是：Hello  World\n"
     ]
    }
   ],
   "source": [
    "a = input(\"請輸入第一個字串：\")\n",
    "b = input(\"請輸入第二個字串：\")\n",
    "combined_string = f\"{a} {b}\"\n",
    "print(f\"拼接後的字串是：{combined_string}\")"
   ]
  },
  {
   "cell_type": "code",
   "execution_count": 33,
   "metadata": {},
   "outputs": [
    {
     "name": "stdout",
     "output_type": "stream",
     "text": [
      "You are 34 years old.\n"
     ]
    }
   ],
   "source": [
    "from datetime import datetime\n",
    "birth_year = int(input(\"請輸入您的出生年份：\"))\n",
    "current_year = datetime.now().year\n",
    "age = current_year - birth_year\n",
    "print(f\"You are {age} years old.\")"
   ]
  },
  {
   "cell_type": "code",
   "execution_count": 36,
   "metadata": {},
   "outputs": [
    {
     "name": "stdout",
     "output_type": "stream",
     "text": [
      "生成的檔案名稱是：2024-08-15-report.pdf\n"
     ]
    }
   ],
   "source": [
    "from datetime import datetime\n",
    "a = input(\"請輸入檔案名稱：\")\n",
    "b = input(\"請輸入副檔名：\")\n",
    "c = datetime.now().strftime(\"%Y-%m-%d\")\n",
    "full_file_name = f\"{c}-{a}.{b}\"\n",
    "print(f\"生成的檔案名稱是：{full_file_name}\")"
   ]
  },
  {
   "cell_type": "code",
   "execution_count": 37,
   "metadata": {},
   "outputs": [
    {
     "name": "stdout",
     "output_type": "stream",
     "text": [
      "6*7 = 42\n"
     ]
    }
   ],
   "source": [
    "a = int(input(\"第一個整數：\"))\n",
    "b = int(input(\"第二個整數：\"))\n",
    "result = a*b\n",
    "print(f\"{a}*{b} = {result}\")"
   ]
  },
  {
   "cell_type": "code",
   "execution_count": null,
   "metadata": {},
   "outputs": [],
   "source": []
  }
 ],
 "metadata": {
  "kernelspec": {
   "display_name": "base",
   "language": "python",
   "name": "python3"
  },
  "language_info": {
   "codemirror_mode": {
    "name": "ipython",
    "version": 3
   },
   "file_extension": ".py",
   "mimetype": "text/x-python",
   "name": "python",
   "nbconvert_exporter": "python",
   "pygments_lexer": "ipython3",
   "version": "3.11.7"
  }
 },
 "nbformat": 4,
 "nbformat_minor": 2
}
